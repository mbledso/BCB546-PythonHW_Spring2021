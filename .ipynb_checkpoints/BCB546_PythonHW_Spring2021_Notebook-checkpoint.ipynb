{
 "cells": [
  {
   "cell_type": "markdown",
   "metadata": {},
   "source": [
    "# BCB546 PythonHW Spring2021 Notebook"
   ]
  },
  {
   "cell_type": "markdown",
   "metadata": {},
   "source": [
    "### By: Molly Bledsoe"
   ]
  },
  {
   "cell_type": "markdown",
   "metadata": {},
   "source": [
    "## Resources\n",
    "    Biopython SeqIO: https://biopython.org/wiki/SeqIO\n",
    "    Biopython Codon Table: https://biopython.org/docs/1.75/api/Bio.Data.CodonTable.html\n",
    "    Biopython: http://biopython.org/DIST/docs/tutorial/Tutorial.pdf\n",
    "    Biopython ProtParam: http://biopython.org/wiki/ProtParam\n",
    "    Biopython Bio.SeqUtils: https://biopython.org/docs/1.75/api/Bio.SeqUtils.html\n",
    "    Bar Plotting Help: https://pandas.pydata.org/docs/reference/api/pandas.DataFrame.plot.bar.html"
   ]
  },
  {
   "cell_type": "markdown",
   "metadata": {},
   "source": [
    "## Required Packages:\n",
    "Biopython\n",
    "Pandas\n",
    "Numpy\n",
    "Matplotlib.pyplot"
   ]
  },
  {
   "cell_type": "code",
   "execution_count": 598,
   "metadata": {},
   "outputs": [],
   "source": [
    "#Molly: Importing biopython package\n",
    "import Bio\n",
    "import pandas as pd"
   ]
  },
  {
   "cell_type": "code",
   "execution_count": 599,
   "metadata": {},
   "outputs": [],
   "source": [
    "#Importing packages in biopython: (Dr. X code)\n",
    "from Bio import SeqIO\n",
    "from Bio.Data import CodonTable\n",
    "import pandas as pd"
   ]
  },
  {
   "cell_type": "markdown",
   "metadata": {},
   "source": [
    "### Functions:"
   ]
  },
  {
   "cell_type": "markdown",
   "metadata": {},
   "source": [
    "## One - Getting our Sequences\n",
    "Dr. X: this gets sequences"
   ]
  },
  {
   "cell_type": "markdown",
   "metadata": {},
   "source": [
    "Input: Fasta file of bear data\n",
    "\n",
    "Output: New dictionary of sequences for each bear species"
   ]
  },
  {
   "cell_type": "code",
   "execution_count": 600,
   "metadata": {},
   "outputs": [],
   "source": [
    "def get_sequences_from_file(fasta_fn):\n",
    "    sequence_data_dict = {} #creating an empty dictionary\n",
    "    for record in SeqIO.parse(fasta_fn, \"fasta\"):\n",
    "        description = record.description.split() #splitting our sequences\n",
    "        species_name = description[1] + \" \" + description[2] #pulling out our bear species names\n",
    "        sequence_data_dict[species_name] = record.seq #connecting our sequences to our species names\n",
    "    return(sequence_data_dict)"
   ]
  },
  {
   "cell_type": "code",
   "execution_count": 601,
   "metadata": {},
   "outputs": [
    {
     "data": {
      "text/plain": [
       "{'Ursus spelaeus': Seq('ATGACCAACATCCGAAAAACCCATCCATTAGCTAAAATCATCAACAACTCATTT...AGA'),\n",
       " 'Ursus arctos': Seq('ATGACCAACATCCGAAAAACCCACCCATTAGCTAAAATCATCAACAACTCACTT...AGA'),\n",
       " 'Ursus thibetanus': Seq('ATGACCAACATCCGAAAAACCCATCCATTAGCCAAAATCATCAACAACTCACTC...AGA'),\n",
       " 'Melursus ursinus': Seq('ATGACCAACATCCGAAAAACCCACCCATTAGCTAAAATCATTAACAACTCACTC...AGA'),\n",
       " 'Ursus americanus': Seq('ATGACCAACATCCGAAAAACCCACCCATTAGCTAAAATCATCAACAACTCACTT...AGA'),\n",
       " 'Helarctos malayanus': Seq('ATGACCAACATCCGAAAAACCCACCCATTAGCTAAAATCATTAACAACTCACTT...AGA'),\n",
       " 'Ailuropoda melanoleuca': Seq('ATGATCAACATCCGAAAAACTCATCCATTAGTTAAAATTATCAACAACTCATTC...AGA'),\n",
       " 'Tremarctos ornatus': Seq('ATGACCAACATCCGAAAAACTCACCCACTAGCTAAAATCATCAACAGCTCATTC...AGA'),\n",
       " 'Ursus maritimus': Seq('ATGACCAACATCCGAAAAACCCACCCATTAGCTAAAATCATCAACAACTCATTT...AGA')}"
      ]
     },
     "execution_count": 601,
     "metadata": {},
     "output_type": "execute_result"
    }
   ],
   "source": [
    "get_sequences_from_file(\"bears_cytb.fasta\")"
   ]
  },
  {
   "cell_type": "markdown",
   "metadata": {},
   "source": [
    "## Dr. X's Translation Function\n",
    "Dr.X: Translates our dna sequence into an amino acid sequence"
   ]
  },
  {
   "cell_type": "markdown",
   "metadata": {},
   "source": [
    "Input: DNA sequence\n",
    "\n",
    "Output: Amino acid sequence\n"
   ]
  },
  {
   "cell_type": "code",
   "execution_count": 653,
   "metadata": {},
   "outputs": [],
   "source": [
    "def translate_nuc_DrX(string_nucleotides): \n",
    "    mito_table = CodonTable.unambiguous_dna_by_name[\"Vertebrate Mitochondrial\"] #Sets desired codon table \n",
    "    print(mito_table)\n",
    "    index = 0\n",
    "    aa_seq_string = \"\" # creates an empty string\n",
    "    for b in range(0, len(string_nucleotides)//3): # this reads amino acids three at a time\n",
    "        codon = string_nucleotides[index:index+3] #setting our codons\n",
    "        index += 3\n",
    "        if codon == \"AGG\" or codon == \"TAA\" or codon == \"AGA\" or codon == \"TAG\":\n",
    "            break # stops the loops if a stop codon is encountered. \n",
    "        else:\n",
    "            aa = mito_table.forward_table[codon] #gets the amino acid translation of the current codon\n",
    "            aa_seq_string = aa_seq_string + aa #adds the amino acids into our string\n",
    "    return(aa_seq_string)"
   ]
  },
  {
   "cell_type": "code",
   "execution_count": 652,
   "metadata": {
    "scrolled": true
   },
   "outputs": [
    {
     "name": "stdout",
     "output_type": "stream",
     "text": [
      "Table 2 Vertebrate Mitochondrial, SGC1\n",
      "\n",
      "  |  T      |  C      |  A      |  G      |\n",
      "--+---------+---------+---------+---------+--\n",
      "T | TTT F   | TCT S   | TAT Y   | TGT C   | T\n",
      "T | TTC F   | TCC S   | TAC Y   | TGC C   | C\n",
      "T | TTA L   | TCA S   | TAA Stop| TGA W   | A\n",
      "T | TTG L   | TCG S   | TAG Stop| TGG W   | G\n",
      "--+---------+---------+---------+---------+--\n",
      "C | CTT L   | CCT P   | CAT H   | CGT R   | T\n",
      "C | CTC L   | CCC P   | CAC H   | CGC R   | C\n",
      "C | CTA L   | CCA P   | CAA Q   | CGA R   | A\n",
      "C | CTG L   | CCG P   | CAG Q   | CGG R   | G\n",
      "--+---------+---------+---------+---------+--\n",
      "A | ATT I(s)| ACT T   | AAT N   | AGT S   | T\n",
      "A | ATC I(s)| ACC T   | AAC N   | AGC S   | C\n",
      "A | ATA M(s)| ACA T   | AAA K   | AGA Stop| A\n",
      "A | ATG M(s)| ACG T   | AAG K   | AGG Stop| G\n",
      "--+---------+---------+---------+---------+--\n",
      "G | GTT V   | GCT A   | GAT D   | GGT G   | T\n",
      "G | GTC V   | GCC A   | GAC D   | GGC G   | C\n",
      "G | GTA V   | GCA A   | GAA E   | GGA G   | A\n",
      "G | GTG V(s)| GCG A   | GAG E   | GGG G   | G\n",
      "--+---------+---------+---------+---------+--\n"
     ]
    },
    {
     "data": {
      "text/plain": [
       "'MTNIRKTHPLAKIINNSFIDLPTPSNISAWWNFGSLLGVCLILQILTGLFLAMHYTSDTTTAFSSITHICRDVHYGWVIRYMHANGASMFFICLFMHVGRGLYYGSYLFSETWNIGIILLLTVMATAFMGYVLPWGQMSFWGATVITNLLSAIPYIGTDLVEWIWGGFSVDKATLTRFFAFHFILPFIILALAAVHLLFLHETGSNNPSGIPSDSDKIPFHPYYTIKDILGALLLTLALAALVLFSPDLLGDPDNYTPANPLSTPPHIKPEWYFLFAYAILRFIPNKLGGVLALIFSILILAIISLLHTSKQRGMMFRPLSQCLFWLLVADLLTLTWIGGQPVEHPFIIIGQLASILYFTIPLVLMPIAGIIENNLLKW'"
      ]
     },
     "execution_count": 652,
     "metadata": {},
     "output_type": "execute_result"
    }
   ],
   "source": [
    "#Here is an example of our function in action inputting the DNA sequence of Ursus spelaeus:\n",
    "Ursus_spelaeus_dna_seq = 'ATGACCAACATCCGAAAAACCCATCCATTAGCTAAAATCATCAACAACTCATTTATTGACCTCCCAACACCATCAAACATCTCAGCATGATGAAACTTTGGATCCCTCCTCGGAGTATGCTTAATTCTACAGATCCTAACAGGCCTGTTTCTAGCTATACACTACACATCAGACACAACCACAGCCTTTTCATCAATCACCCATATTTGCCGAGACGTTCACTACGGTTGAGTTATCCGATATATACATGCAAACGGAGCCTCCATATTCTTTATCTGTCTATTCATGCACGTAGGACGGGGCCTATACTATGGCTCATACCTATTCTCAGAAACATGAAACATTGGCATTATTCTCCTACTTACAGTCATAGCCACCGCATTCATAGGATATGTCCTACCCTGAGGCCAAATGTCCTTCTGAGGAGCAACTGTCATTACCAACCTACTATCGGCCATTCCCTATATCGGAACGGACCTAGTAGAATGAATCTGAGGAGGCTTTTCCGTAGATAAGGCAACTCTAACACGATTCTTTGCCTTCCACTTTATCCTCCCGTTCATCATCTTAGCACTAGCAGCAGTCCATCTATTGTTTCTACACGAAACAGGATCCAACAACCCCTCTGGAATCCCATCTGACTCAGACAAAATCCCATTTCACCCATACTATACAATTAAGGACATTCTAGGCGCCCTGCTTCTCACTCTAGCTTTAGCAGCTCTAGTCCTATTCTCGCCTGACTTACTAGGAGACCCTGACAACTATACCCCCGCAAACCCACTGAGTACCCCACCCCACATCAAACCCGAGTGGTACTTTCTATTTGCCTACGCTATCCTACGATTTATCCCTAACAAACTAGGAGGAGTACTAGCACTAATCTTCTCCATTCTAATCCTAGCTATCATTTCTCTTCTACACACATCCAAACAACGAGGAATGATATTCCGGCCTCTAAGCCAATGCCTATTCTGACTCCTAGTAGCAGACCTACTAACACTAACATGAATTGGAGGACAACCAGTAGAACACCCCTTCATTATTATCGGACAGCTAGCCTCCATTCTCTACTTTACAATCCCCCTAGTACTCATACCCATCGCTGGAATTATTGAAAACAACCTCTTAAAGTGAAGA'\n",
    "translate_nuc_DrX(Ursus_spelaeus_dna_seq)"
   ]
  },
  {
   "cell_type": "markdown",
   "metadata": {},
   "source": [
    "## Alternative Translation Function\n",
    "Alternative function that translates our dna sequence into an amino acid sequence"
   ]
  },
  {
   "cell_type": "markdown",
   "metadata": {},
   "source": [
    "Input: DNA sequence\n",
    "\n",
    "Output: Amino acid sequence"
   ]
  },
  {
   "cell_type": "code",
   "execution_count": 654,
   "metadata": {},
   "outputs": [],
   "source": [
    "from Bio.Seq import Seq #REALLY NEED HELP WITH THIS ONE\n",
    "def translate_nuc_Molly(string_nucleotides):\n",
    "    aa_seq = \"\" #creates an empty string\n",
    "    dna_string = str(string_nucleotides) #sets our DNA sequences as strings\n",
    "    dna_seq = Seq(dna_string) #sequences our dna string\n",
    "    aa_seq = dna_seq.translate(table=2,to_stop=True,cds=True) #translates the sequences using the Vertebrate Mitochondrial table\n",
    "    return(aa_seq)"
   ]
  },
  {
   "cell_type": "code",
   "execution_count": 651,
   "metadata": {},
   "outputs": [
    {
     "data": {
      "text/plain": [
       "Seq('MTNIRKTHPLAKIINSSFIDLPTPSNISAWWNFGSLLGVCLILHILTGLFLAMH...SKW')"
      ]
     },
     "execution_count": 651,
     "metadata": {},
     "output_type": "execute_result"
    }
   ],
   "source": [
    "#Example of our function in action\n",
    "amino_acid_seq = alt_translate_seq('ATGACCAACATCCGAAAAACTCACCCACTAGCTAAAATCATCAACAGCTCATTCATTGACCTCCCAACACCATCAAATATCTCAGCGTGATGAAACTTCGGGTCCCTTCTTGGGGTGTGCCTGATCCTACACATCCTAACGGGCCTATTCCTGGCCATACACTATACAGCAGACACGACTACAGCCTTCTCATCAGTCGCCCATATCTGTCGAGACGTTAACTACGGATGAGTTATCCGATACATACACGCGAACGGAGCTTCAATATTCTTTATCTGCTTGTTCATACACGTGGGACGGGGTCTGTATTACGGCTCATACCTATTCTCAGAAACATGAAACATTGGAATTATTCTCCTACTCACAATTATAGCCACAGCATTCATGGGGTACGTGCTGCCCTGAGGCCAAATATCCTTTTGAGGAGCAACCGTCATCACCAATCTGCTATCAGCTATCCCCTACATTGGAACCGACCTAGTAGAATGAATCTGAGGTGGATTCTCAGTAGATAAAGCAACCCTTACCCGATTTTTCGCTTTTCACTTTATCCTTCCATTCATTATTTTAGCACTAGCCATAGTCCACCTATTATTTCTTCACGAAACAGGATCCAACAATCCCTCTGGAATCTCATCGAACTCAGACAAAATCCCATTTCACCCTTACTATACAATTAAAGATATTCTAGGCGTCTTACTTCTTCTCCTAGCCCTGGTAACCCTAGTCCTATTCTCACCCGACTTACTAGGAGACCCCGACAACTACACCCCTGCAAACCCAGTGAGCACCCCACTACATATCAAGCCTGAATGGTACTTCTTATTTGCCTACGCCATTCTACGATCTATTCCCAATAAATTGGGAGGAGTACTGGCCCTAATCTTCTCCATTCTAATCCTAGCTATCATTCCTCTGCTGCACACATCCAAACAACGAGGAATGATATTCCGACCTTTAAGCCAATGCCTTTTCTGGCTTCTAGCAGCAGACTTACTAACACTAACATGAATCGGAGGACAACCAGTGGAACATCCTCTTGTTATCATCGGACAGCTAGCCTCTATCCTCTACTTCACAATCCTCCTAGTACTTATACCCATCGCCGGAATCATTGAAAATAACCTCTCAAAGTGAAGA')\n",
    "amino_acid_seq"
   ]
  },
  {
   "cell_type": "markdown",
   "metadata": {},
   "source": [
    "## Molecular Weight Computer\n",
    "Dr. X: Function that calculates the molecular weight of each amino acid sequence"
   ]
  },
  {
   "cell_type": "code",
   "execution_count": 606,
   "metadata": {},
   "outputs": [],
   "source": [
    "#import \n",
    "from Bio.SeqUtils.ProtParam import ProteinAnalysis"
   ]
  },
  {
   "cell_type": "markdown",
   "metadata": {},
   "source": [
    "Input: Amino acid sequence\n",
    "\n",
    "Output: Molecular weight of amino acid sequence"
   ]
  },
  {
   "cell_type": "code",
   "execution_count": 655,
   "metadata": {},
   "outputs": [],
   "source": [
    "def compute_molecular_weight(aa_seq):\n",
    "    analysed_seq = ProteinAnalysis(aa_seq) #analyses amino acid sequence\n",
    "    mol_weight = analysed_seq.molecular_weight() #calculates molecular weight of the analysed sequence\n",
    "    return(mol_weight)"
   ]
  },
  {
   "cell_type": "code",
   "execution_count": 608,
   "metadata": {},
   "outputs": [
    {
     "data": {
      "text/plain": [
       "42458.79919999999"
      ]
     },
     "execution_count": 608,
     "metadata": {},
     "output_type": "execute_result"
    }
   ],
   "source": [
    "#Here is our function in action inputting the amino acid sequence of Ursus spelaeus:\n",
    "ursus_spelaeus_aa = 'MTNIRKTHPLAKIINNSFIDLPTPSNISAWWNFGSLLGVCLILQILTGLFLAMHYTSDTTTAFSSITHICRDVHYGWVIRYMHANGASMFFICLFMHVGRGLYYGSYLFSETWNIGIILLLTVMATAFMGYVLPWGQMSFWGATVITNLLSAIPYIGTDLVEWIWGGFSVDKATLTRFFAFHFILPFIILALAAVHLLFLHETGSNNPSGIPSDSDKIPFHPYYTIKDILGALLLTLALAALVLFSPDLLGDPDNYTPANPLSTPPHIKPEWYFLFAYAILRFIPNKLGGVLALIFSILILAIISLLHTSKQRGMMFRPLSQCLFWLLVADLLTLTWIGGQPVEHPFIIIGQLASILYFTIPLVLMPIAGIIENNLLKW'\n",
    "compute_molecular_weight(ursus_spelaeus_aa)"
   ]
  },
  {
   "cell_type": "markdown",
   "metadata": {},
   "source": [
    "## GC Count Function\n",
    "Dr. X: Calculates the GC-content (proportion of \"G\" and \"C\") of each DNA sequence and returns this value"
   ]
  },
  {
   "cell_type": "markdown",
   "metadata": {},
   "source": [
    "Input: String of DNA sequence\n",
    "\n",
    "Output: Total percentage of \"G\" and \"C\" bases present in DNA sequence"
   ]
  },
  {
   "cell_type": "code",
   "execution_count": 647,
   "metadata": {},
   "outputs": [],
   "source": [
    "from Bio.SeqUtils import GC\n",
    "def GC_count(string_nucleotides):\n",
    "    GC_percentage = GC(string_nucleotides) #count percentage of \"G\" and \"C\" present\n",
    "    return(GC_percentage)"
   ]
  },
  {
   "cell_type": "code",
   "execution_count": 650,
   "metadata": {},
   "outputs": [
    {
     "data": {
      "text/plain": [
       "43.771929824561404"
      ]
     },
     "execution_count": 650,
     "metadata": {},
     "output_type": "execute_result"
    }
   ],
   "source": [
    "#Here is an example of our function in action inputting the DNA sequence of Ursus spelaeus:\n",
    "Ursus_spelaeus_dna_seq = ('ATGACCAACATCCGAAAAACCCATCCATTAGCTAAAATCATCAACAACTCATTTATTGACCTCCCAACACCATCAAACATCTCAGCATGATGAAACTTTGGATCCCTCCTCGGAGTATGCTTAATTCTACAGATCCTAACAGGCCTGTTTCTAGCTATACACTACACATCAGACACAACCACAGCCTTTTCATCAATCACCCATATTTGCCGAGACGTTCACTACGGTTGAGTTATCCGATATATACATGCAAACGGAGCCTCCATATTCTTTATCTGTCTATTCATGCACGTAGGACGGGGCCTATACTATGGCTCATACCTATTCTCAGAAACATGAAACATTGGCATTATTCTCCTACTTACAGTCATAGCCACCGCATTCATAGGATATGTCCTACCCTGAGGCCAAATGTCCTTCTGAGGAGCAACTGTCATTACCAACCTACTATCGGCCATTCCCTATATCGGAACGGACCTAGTAGAATGAATCTGAGGAGGCTTTTCCGTAGATAAGGCAACTCTAACACGATTCTTTGCCTTCCACTTTATCCTCCCGTTCATCATCTTAGCACTAGCAGCAGTCCATCTATTGTTTCTACACGAAACAGGATCCAACAACCCCTCTGGAATCCCATCTGACTCAGACAAAATCCCATTTCACCCATACTATACAATTAAGGACATTCTAGGCGCCCTGCTTCTCACTCTAGCTTTAGCAGCTCTAGTCCTATTCTCGCCTGACTTACTAGGAGACCCTGACAACTATACCCCCGCAAACCCACTGAGTACCCCACCCCACATCAAACCCGAGTGGTACTTTCTATTTGCCTACGCTATCCTACGATTTATCCCTAACAAACTAGGAGGAGTACTAGCACTAATCTTCTCCATTCTAATCCTAGCTATCATTTCTCTTCTACACACATCCAAACAACGAGGAATGATATTCCGGCCTCTAAGCCAATGCCTATTCTGACTCCTAGTAGCAGACCTACTAACACTAACATGAATTGGAGGACAACCAGTAGAACACCCCTTCATTATTATCGGACAGCTAGCCTCCATTCTCTACTTTACAATCCCCCTAGTACTCATACCCATCGCTGGAATTATTGAAAACAACCTCTTAAAGTGAAGA')\n",
    "GC_count(Ursus_spelaeus_dna_seq)"
   ]
  },
  {
   "cell_type": "markdown",
   "metadata": {},
   "source": [
    "# MAIN"
   ]
  },
  {
   "cell_type": "code",
   "execution_count": 611,
   "metadata": {},
   "outputs": [],
   "source": [
    "#Import Pandas package\n",
    "import pandas as pd"
   ]
  },
  {
   "cell_type": "code",
   "execution_count": 612,
   "metadata": {},
   "outputs": [],
   "source": [
    "cytb_seq = get_sequences_from_file(\"bears_cytb.fasta\")\n",
    "\n",
    "bears_df = pd.read_csv(\"bears_mass.csv\")#Dr.X: Includes only data for body mass\n",
    "species_list = list(bears_df.species)\n",
    "bears_copy_df = bears_df.copy()"
   ]
  },
  {
   "cell_type": "markdown",
   "metadata": {},
   "source": [
    "## Adding New Columns into Bears Data Frame\n",
    "Dr. X: Add two new columns to the bears DataFrame: (1) molecular weight and (2) GC content\n",
    "Set the value to 'NaN' to indicate that these cells are currenlty empty"
   ]
  },
  {
   "cell_type": "code",
   "execution_count": 613,
   "metadata": {},
   "outputs": [
    {
     "name": "stdout",
     "output_type": "stream",
     "text": [
      "                  species     mass\n",
      "0          Ursus spelaeus  550.800\n",
      "1            Ursus arctos  203.500\n",
      "2        Ursus thibetanus   99.714\n",
      "3        Melursus ursinus  100.030\n",
      "4        Ursus americanus  110.560\n",
      "5     Helarctos malayanus   47.020\n",
      "6  Ailuropoda melanoleuca  118.200\n",
      "7      Tremarctos ornatus  140.700\n",
      "8         Ursus maritimus  425.100\n"
     ]
    }
   ],
   "source": [
    "#For comparison\n",
    "print(bears_df)"
   ]
  },
  {
   "cell_type": "code",
   "execution_count": 641,
   "metadata": {},
   "outputs": [
    {
     "name": "stdout",
     "output_type": "stream",
     "text": [
      "                  species     mass molW GC_count\n",
      "0          Ursus spelaeus  550.800  NaN      NaN\n",
      "1            Ursus arctos  203.500  NaN      NaN\n",
      "2        Ursus thibetanus   99.714  NaN      NaN\n",
      "3        Melursus ursinus  100.030  NaN      NaN\n",
      "4        Ursus americanus  110.560  NaN      NaN\n",
      "5     Helarctos malayanus   47.020  NaN      NaN\n",
      "6  Ailuropoda melanoleuca  118.200  NaN      NaN\n",
      "7      Tremarctos ornatus  140.700  NaN      NaN\n",
      "8         Ursus maritimus  425.100  NaN      NaN\n"
     ]
    }
   ],
   "source": [
    "#Dr.X: set the value to 'NaN' to indicate that these cells are currently empty\n",
    "molW = 'NaN'#setting values\n",
    "GC_count = 'NaN' #setting values\n",
    "bears_copy_df['molW'] = molW #inserting new \"molW\" column with set values\n",
    "bears_copy_df['GC_count'] = GC_count #inserting new \"GC_count\" cloumn with set values\n",
    "print(bears_copy_df)"
   ]
  },
  {
   "cell_type": "markdown",
   "metadata": {},
   "source": [
    "## Fill in \"MolW\" and \"GC_count\" Columns"
   ]
  },
  {
   "cell_type": "code",
   "execution_count": 640,
   "metadata": {
    "scrolled": true
   },
   "outputs": [
    {
     "data": {
      "text/html": [
       "<div>\n",
       "<style scoped>\n",
       "    .dataframe tbody tr th:only-of-type {\n",
       "        vertical-align: middle;\n",
       "    }\n",
       "\n",
       "    .dataframe tbody tr th {\n",
       "        vertical-align: top;\n",
       "    }\n",
       "\n",
       "    .dataframe thead th {\n",
       "        text-align: right;\n",
       "    }\n",
       "</style>\n",
       "<table border=\"1\" class=\"dataframe\">\n",
       "  <thead>\n",
       "    <tr style=\"text-align: right;\">\n",
       "      <th></th>\n",
       "      <th>species</th>\n",
       "      <th>mass</th>\n",
       "      <th>molW</th>\n",
       "      <th>GC_count</th>\n",
       "    </tr>\n",
       "  </thead>\n",
       "  <tbody>\n",
       "    <tr>\n",
       "      <th>0</th>\n",
       "      <td>Ursus spelaeus</td>\n",
       "      <td>550.800</td>\n",
       "      <td>42458.8</td>\n",
       "      <td>43.7719</td>\n",
       "    </tr>\n",
       "    <tr>\n",
       "      <th>1</th>\n",
       "      <td>Ursus arctos</td>\n",
       "      <td>203.500</td>\n",
       "      <td>42414.7</td>\n",
       "      <td>43.7719</td>\n",
       "    </tr>\n",
       "    <tr>\n",
       "      <th>2</th>\n",
       "      <td>Ursus thibetanus</td>\n",
       "      <td>99.714</td>\n",
       "      <td>42306.7</td>\n",
       "      <td>45.614</td>\n",
       "    </tr>\n",
       "    <tr>\n",
       "      <th>3</th>\n",
       "      <td>Melursus ursinus</td>\n",
       "      <td>100.030</td>\n",
       "      <td>42552</td>\n",
       "      <td>45.1754</td>\n",
       "    </tr>\n",
       "    <tr>\n",
       "      <th>4</th>\n",
       "      <td>Ursus americanus</td>\n",
       "      <td>110.560</td>\n",
       "      <td>42427.7</td>\n",
       "      <td>43.9474</td>\n",
       "    </tr>\n",
       "    <tr>\n",
       "      <th>5</th>\n",
       "      <td>Helarctos malayanus</td>\n",
       "      <td>47.020</td>\n",
       "      <td>42560.9</td>\n",
       "      <td>44.2982</td>\n",
       "    </tr>\n",
       "    <tr>\n",
       "      <th>6</th>\n",
       "      <td>Ailuropoda melanoleuca</td>\n",
       "      <td>118.200</td>\n",
       "      <td>42702.2</td>\n",
       "      <td>40.7895</td>\n",
       "    </tr>\n",
       "    <tr>\n",
       "      <th>7</th>\n",
       "      <td>Tremarctos ornatus</td>\n",
       "      <td>140.700</td>\n",
       "      <td>42384.8</td>\n",
       "      <td>44.386</td>\n",
       "    </tr>\n",
       "    <tr>\n",
       "      <th>8</th>\n",
       "      <td>Ursus maritimus</td>\n",
       "      <td>425.100</td>\n",
       "      <td>42454.8</td>\n",
       "      <td>44.2982</td>\n",
       "    </tr>\n",
       "  </tbody>\n",
       "</table>\n",
       "</div>"
      ],
      "text/plain": [
       "                  species     mass     molW GC_count\n",
       "0          Ursus spelaeus  550.800  42458.8  43.7719\n",
       "1            Ursus arctos  203.500  42414.7  43.7719\n",
       "2        Ursus thibetanus   99.714  42306.7   45.614\n",
       "3        Melursus ursinus  100.030    42552  45.1754\n",
       "4        Ursus americanus  110.560  42427.7  43.9474\n",
       "5     Helarctos malayanus   47.020  42560.9  44.2982\n",
       "6  Ailuropoda melanoleuca  118.200  42702.2  40.7895\n",
       "7      Tremarctos ornatus  140.700  42384.8   44.386\n",
       "8         Ursus maritimus  425.100  42454.8  44.2982"
      ]
     },
     "execution_count": 640,
     "metadata": {},
     "output_type": "execute_result"
    }
   ],
   "source": [
    "from Bio.SeqUtils import GC as GC_func\n",
    "for key, value in cytb_seq.items():\n",
    "    aa_seq = translate_nuc_Molly(value) #translate dna sequence into amino acid sequence\n",
    "    aa_seq_string = str(aa_seq) #making the aa_seq into a string\n",
    "    MW = compute_molecular_weight(aa_seq_string) #computes molecular weight of amino acids\n",
    "    GC_string = str(value) #making the dna sequence into a string\n",
    "    GC = GC_func(GC_string)#computes the GC content of dna sequences\n",
    "    bears_copy_df.at[bears_copy_df.loc[bears_copy_df.species == key,'molW'].index[0], \"molW\"] = MW #inserting the molecular weight into datafram\n",
    "    bears_copy_df.at[bears_copy_df.loc[bears_copy_df.species == key,'GC_count'].index[0], \"GC_count\"] = GC #inserting GC count into dataframe\n",
    "    \n",
    "bears_copy_df"
   ]
  },
  {
   "cell_type": "markdown",
   "metadata": {},
   "source": [
    "## Species and Mass Plot \n",
    "Dr. X: Plot a bar-chart of the mass with the x-axes labeled with species names"
   ]
  },
  {
   "cell_type": "code",
   "execution_count": 617,
   "metadata": {},
   "outputs": [],
   "source": [
    "import numpy as np\n",
    "import matplotlib.pyplot as plt"
   ]
  },
  {
   "cell_type": "code",
   "execution_count": 625,
   "metadata": {
    "scrolled": true
   },
   "outputs": [
    {
     "data": {
      "image/png": "[encoded data removed]",
      "text/plain": [
       "<Figure size 432x288 with 1 Axes>"
      ]
     },
     "metadata": {
      "needs_background": "light"
     },
     "output_type": "display_data"
    }
   ],
   "source": [
    "bears_mass = bears_copy_df.plot.bar(x = 'species', y = 'mass', title = \"Mass of Bears\", ylabel = \"Mass\")"
   ]
  },
  {
   "cell_type": "markdown",
   "metadata": {},
   "source": [
    "The largest bear species is Ursus spelaeus\n",
    "\n",
    "Ursus spelaeus is still larger than the combined masses of Ursus arctos, Ursus thibetanus, Melursus ursinusm and Ursus americanus"
   ]
  },
  {
   "cell_type": "markdown",
   "metadata": {},
   "source": [
    "## Molecular Weight and GC Content Plot \n",
    "Dr X: Plot a visualization of the molecular weight (y-axis) as a function of GC-content (x-axis)"
   ]
  },
  {
   "cell_type": "code",
   "execution_count": 639,
   "metadata": {},
   "outputs": [
    {
     "data": {
      "image/png": "[encoded data removed]",
      "text/plain": [
       "<Figure size 432x288 with 1 Axes>"
      ]
     },
     "metadata": {
      "needs_background": "light"
     },
     "output_type": "display_data"
    }
   ],
   "source": [
    "bears_GC_MW = bears_copy_df.plot.bar(x = 'GC_count', y = 'molW', title = \"Molecular Weight vs GC Content\", ylabel = \"Molecular Weight\")"
   ]
  },
  {
   "cell_type": "markdown",
   "metadata": {},
   "source": [
    "## Saving Data\n",
    "Dr.X: Save the new DataFrame to a file called \"bears_mass_cytb.csv\""
   ]
  },
  {
   "cell_type": "code",
   "execution_count": 638,
   "metadata": {
    "scrolled": true
   },
   "outputs": [
    {
     "name": "stdout",
     "output_type": "stream",
     "text": [
      "                  species     mass     molW GC_count\n",
      "0          Ursus spelaeus  550.800  42458.8  43.7719\n",
      "1            Ursus arctos  203.500  42414.7  43.7719\n",
      "2        Ursus thibetanus   99.714  42306.7   45.614\n",
      "3        Melursus ursinus  100.030    42552  45.1754\n",
      "4        Ursus americanus  110.560  42427.7  43.9474\n",
      "5     Helarctos malayanus   47.020  42560.9  44.2982\n",
      "6  Ailuropoda melanoleuca  118.200  42702.2  40.7895\n",
      "7      Tremarctos ornatus  140.700  42384.8   44.386\n",
      "8         Ursus maritimus  425.100  42454.8  44.2982\n"
     ]
    }
   ],
   "source": [
    "bears_mass_cytb = bears_copy_df\n",
    "print(bears_mass_cytb)\n",
    "bears_mass_cytb.to_csv(r'C:\\Users\\molly\\Desktop\\Python_assignment_21\\BCB546-PythonHW_Spring2021\\bears_mass_cytb.csv', index = False)"
   ]
  }
 ],
 "metadata": {
  "kernelspec": {
   "display_name": "Python 3",
   "language": "python",
   "name": "python3"
  },
  "language_info": {
   "codemirror_mode": {
    "name": "ipython",
    "version": 3
   },
   "file_extension": ".py",
   "mimetype": "text/x-python",
   "name": "python",
   "nbconvert_exporter": "python",
   "pygments_lexer": "ipython3",
   "version": "3.8.5"
  }
 },
 "nbformat": 4,
 "nbformat_minor": 4
}
